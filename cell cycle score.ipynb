{
 "cells": [
  {
   "cell_type": "code",
   "execution_count": 4,
   "metadata": {},
   "outputs": [],
   "source": [
    "import pandas as pd\n",
    "import numpy as np\n",
    "import scanpy as sc\n",
    "from collections import Counter"
   ]
  },
  {
   "cell_type": "markdown",
   "metadata": {},
   "source": [
    "### 1. load and cell annotations"
   ]
  },
  {
   "cell_type": "code",
   "execution_count": 2,
   "metadata": {},
   "outputs": [],
   "source": [
    "adata = sc.read(\"integrated_hepatoblastoma_v2.h5ad\")"
   ]
  },
  {
   "cell_type": "code",
   "execution_count": 3,
   "metadata": {},
   "outputs": [
    {
     "data": {
      "text/plain": [
       "AnnData object with n_obs × n_vars = 26886 × 33538 \n",
       "    obs: 'n_genes', 'n_counts', 'percent_mito', 'S_score', 'G2M_score', 'phase', 'Sample', 'Cell class', 'Cell class_v2', 'Tumor Cluster', 'count by Sample/Cell class/Tumor Cluster'\n",
       "    obsm: 'X_umap'\n",
       "    layers: 'norm_data'"
      ]
     },
     "execution_count": 3,
     "metadata": {},
     "output_type": "execute_result"
    }
   ],
   "source": [
    "adata"
   ]
  },
  {
   "cell_type": "code",
   "execution_count": 17,
   "metadata": {},
   "outputs": [],
   "source": [
    "map_values = {\"background\":\"HBB\", \"human hepatoplastoma\":\"HBT\", \"pdx\": \"PDX\"}\n",
    "adata.obs[\"Sample_v2\"] = [map_values[i] for i in adata.obs[\"Sample\"]]\n",
    "adata.obs[\"new_index\"] = [i.split(\"-\")[0] for i in adata.obs.index.values]\n",
    "adata.obs[\"new_index\"] = [adata.obs[\"new_index\"][i] + \"-\" + adata.obs[\"Sample_v2\"][i] for i in range(adata.obs.shape[0])]"
   ]
  },
  {
   "cell_type": "code",
   "execution_count": 21,
   "metadata": {},
   "outputs": [
    {
     "data": {
      "text/html": [
       "<div>\n",
       "<style scoped>\n",
       "    .dataframe tbody tr th:only-of-type {\n",
       "        vertical-align: middle;\n",
       "    }\n",
       "\n",
       "    .dataframe tbody tr th {\n",
       "        vertical-align: top;\n",
       "    }\n",
       "\n",
       "    .dataframe thead th {\n",
       "        text-align: right;\n",
       "    }\n",
       "</style>\n",
       "<table border=\"1\" class=\"dataframe\">\n",
       "  <thead>\n",
       "    <tr style=\"text-align: right;\">\n",
       "      <th></th>\n",
       "      <th>n_genes</th>\n",
       "      <th>n_counts</th>\n",
       "      <th>percent_mito</th>\n",
       "      <th>S_score</th>\n",
       "      <th>G2M_score</th>\n",
       "      <th>phase</th>\n",
       "      <th>Sample</th>\n",
       "      <th>Cell class</th>\n",
       "      <th>Cell class_v2</th>\n",
       "      <th>Tumor Cluster</th>\n",
       "      <th>count by Sample/Cell class/Tumor Cluster</th>\n",
       "      <th>tumorCluster</th>\n",
       "      <th>Sample_v2</th>\n",
       "    </tr>\n",
       "    <tr>\n",
       "      <th>new_index</th>\n",
       "      <th></th>\n",
       "      <th></th>\n",
       "      <th></th>\n",
       "      <th></th>\n",
       "      <th></th>\n",
       "      <th></th>\n",
       "      <th></th>\n",
       "      <th></th>\n",
       "      <th></th>\n",
       "      <th></th>\n",
       "      <th></th>\n",
       "      <th></th>\n",
       "      <th></th>\n",
       "    </tr>\n",
       "  </thead>\n",
       "  <tbody>\n",
       "    <tr>\n",
       "      <th>AAACCCAAGCACGGAT-HBB</th>\n",
       "      <td>818</td>\n",
       "      <td>1863</td>\n",
       "      <td>0.124530</td>\n",
       "      <td>-0.515722</td>\n",
       "      <td>-0.468615</td>\n",
       "      <td>G1</td>\n",
       "      <td>background</td>\n",
       "      <td>Endothelial cells</td>\n",
       "      <td>background-Endothelial cells</td>\n",
       "      <td>nan</td>\n",
       "      <td>1439</td>\n",
       "      <td>NaN</td>\n",
       "      <td>HBB</td>\n",
       "    </tr>\n",
       "    <tr>\n",
       "      <th>AAACCCACAACTGAAA-HBB</th>\n",
       "      <td>2058</td>\n",
       "      <td>8974</td>\n",
       "      <td>0.207488</td>\n",
       "      <td>-0.529314</td>\n",
       "      <td>-0.381604</td>\n",
       "      <td>G1</td>\n",
       "      <td>background</td>\n",
       "      <td>Hepatocytes</td>\n",
       "      <td>background-Hepatocytes</td>\n",
       "      <td>nan</td>\n",
       "      <td>6359</td>\n",
       "      <td>NaN</td>\n",
       "      <td>HBB</td>\n",
       "    </tr>\n",
       "    <tr>\n",
       "      <th>AAACCCACATTCACCC-HBB</th>\n",
       "      <td>533</td>\n",
       "      <td>790</td>\n",
       "      <td>0.091139</td>\n",
       "      <td>-0.353654</td>\n",
       "      <td>-0.263558</td>\n",
       "      <td>G1</td>\n",
       "      <td>background</td>\n",
       "      <td>Endothelial cells</td>\n",
       "      <td>background-Endothelial cells</td>\n",
       "      <td>nan</td>\n",
       "      <td>1439</td>\n",
       "      <td>NaN</td>\n",
       "      <td>HBB</td>\n",
       "    </tr>\n",
       "    <tr>\n",
       "      <th>AAACCCAGTACGGTTT-HBB</th>\n",
       "      <td>2180</td>\n",
       "      <td>6579</td>\n",
       "      <td>0.082687</td>\n",
       "      <td>-0.634865</td>\n",
       "      <td>-0.878748</td>\n",
       "      <td>G1</td>\n",
       "      <td>background</td>\n",
       "      <td>Hepatocytes</td>\n",
       "      <td>background-Hepatocytes</td>\n",
       "      <td>nan</td>\n",
       "      <td>6359</td>\n",
       "      <td>NaN</td>\n",
       "      <td>HBB</td>\n",
       "    </tr>\n",
       "    <tr>\n",
       "      <th>AAACCCAGTATCGAGG-HBB</th>\n",
       "      <td>846</td>\n",
       "      <td>2507</td>\n",
       "      <td>0.167132</td>\n",
       "      <td>-0.441593</td>\n",
       "      <td>-0.448777</td>\n",
       "      <td>G1</td>\n",
       "      <td>background</td>\n",
       "      <td>Hepatocytes</td>\n",
       "      <td>background-Hepatocytes</td>\n",
       "      <td>nan</td>\n",
       "      <td>6359</td>\n",
       "      <td>NaN</td>\n",
       "      <td>HBB</td>\n",
       "    </tr>\n",
       "  </tbody>\n",
       "</table>\n",
       "</div>"
      ],
      "text/plain": [
       "                      n_genes  n_counts  percent_mito   S_score  G2M_score  \\\n",
       "new_index                                                                    \n",
       "AAACCCAAGCACGGAT-HBB      818      1863      0.124530 -0.515722  -0.468615   \n",
       "AAACCCACAACTGAAA-HBB     2058      8974      0.207488 -0.529314  -0.381604   \n",
       "AAACCCACATTCACCC-HBB      533       790      0.091139 -0.353654  -0.263558   \n",
       "AAACCCAGTACGGTTT-HBB     2180      6579      0.082687 -0.634865  -0.878748   \n",
       "AAACCCAGTATCGAGG-HBB      846      2507      0.167132 -0.441593  -0.448777   \n",
       "\n",
       "                     phase      Sample         Cell class  \\\n",
       "new_index                                                   \n",
       "AAACCCAAGCACGGAT-HBB    G1  background  Endothelial cells   \n",
       "AAACCCACAACTGAAA-HBB    G1  background        Hepatocytes   \n",
       "AAACCCACATTCACCC-HBB    G1  background  Endothelial cells   \n",
       "AAACCCAGTACGGTTT-HBB    G1  background        Hepatocytes   \n",
       "AAACCCAGTATCGAGG-HBB    G1  background        Hepatocytes   \n",
       "\n",
       "                                     Cell class_v2 Tumor Cluster  \\\n",
       "new_index                                                          \n",
       "AAACCCAAGCACGGAT-HBB  background-Endothelial cells           nan   \n",
       "AAACCCACAACTGAAA-HBB        background-Hepatocytes           nan   \n",
       "AAACCCACATTCACCC-HBB  background-Endothelial cells           nan   \n",
       "AAACCCAGTACGGTTT-HBB        background-Hepatocytes           nan   \n",
       "AAACCCAGTATCGAGG-HBB        background-Hepatocytes           nan   \n",
       "\n",
       "                      count by Sample/Cell class/Tumor Cluster tumorCluster  \\\n",
       "new_index                                                                     \n",
       "AAACCCAAGCACGGAT-HBB                                      1439          NaN   \n",
       "AAACCCACAACTGAAA-HBB                                      6359          NaN   \n",
       "AAACCCACATTCACCC-HBB                                      1439          NaN   \n",
       "AAACCCAGTACGGTTT-HBB                                      6359          NaN   \n",
       "AAACCCAGTATCGAGG-HBB                                      6359          NaN   \n",
       "\n",
       "                     Sample_v2  \n",
       "new_index                       \n",
       "AAACCCAAGCACGGAT-HBB       HBB  \n",
       "AAACCCACAACTGAAA-HBB       HBB  \n",
       "AAACCCACATTCACCC-HBB       HBB  \n",
       "AAACCCAGTACGGTTT-HBB       HBB  \n",
       "AAACCCAGTATCGAGG-HBB       HBB  "
      ]
     },
     "execution_count": 21,
     "metadata": {},
     "output_type": "execute_result"
    }
   ],
   "source": [
    "#adata.obs.set_index(\"new_index\",inplace=True)\n",
    "adata.obs.head()"
   ]
  },
  {
   "cell_type": "code",
   "execution_count": 5,
   "metadata": {},
   "outputs": [],
   "source": [
    "df_tumorClusters = pd.read_csv(\"ctype_tumorcluster.txt\",sep=\"\\t\",header=0,index_col=0)"
   ]
  },
  {
   "cell_type": "code",
   "execution_count": 7,
   "metadata": {},
   "outputs": [
    {
     "data": {
      "text/html": [
       "<div>\n",
       "<style scoped>\n",
       "    .dataframe tbody tr th:only-of-type {\n",
       "        vertical-align: middle;\n",
       "    }\n",
       "\n",
       "    .dataframe tbody tr th {\n",
       "        vertical-align: top;\n",
       "    }\n",
       "\n",
       "    .dataframe thead th {\n",
       "        text-align: right;\n",
       "    }\n",
       "</style>\n",
       "<table border=\"1\" class=\"dataframe\">\n",
       "  <thead>\n",
       "    <tr style=\"text-align: right;\">\n",
       "      <th></th>\n",
       "      <th>sample</th>\n",
       "      <th>Cluster</th>\n",
       "    </tr>\n",
       "    <tr>\n",
       "      <th>id</th>\n",
       "      <th></th>\n",
       "      <th></th>\n",
       "    </tr>\n",
       "  </thead>\n",
       "  <tbody>\n",
       "    <tr>\n",
       "      <th>AAACCCAAGAATCTAG-HBT</th>\n",
       "      <td>HB T</td>\n",
       "      <td>T4</td>\n",
       "    </tr>\n",
       "    <tr>\n",
       "      <th>AAACCCAAGCCAACCC-HBT</th>\n",
       "      <td>HB T</td>\n",
       "      <td>T4</td>\n",
       "    </tr>\n",
       "    <tr>\n",
       "      <th>AAACCCAAGTTTGCTG-HBT</th>\n",
       "      <td>HB T</td>\n",
       "      <td>T5</td>\n",
       "    </tr>\n",
       "    <tr>\n",
       "      <th>AAACCCACACGCGCTA-HBT</th>\n",
       "      <td>HB T</td>\n",
       "      <td>T6</td>\n",
       "    </tr>\n",
       "    <tr>\n",
       "      <th>AAACCCACAGGTGGAT-HBT</th>\n",
       "      <td>HB T</td>\n",
       "      <td>T4</td>\n",
       "    </tr>\n",
       "  </tbody>\n",
       "</table>\n",
       "</div>"
      ],
      "text/plain": [
       "                     sample Cluster\n",
       "id                                 \n",
       "AAACCCAAGAATCTAG-HBT   HB T      T4\n",
       "AAACCCAAGCCAACCC-HBT   HB T      T4\n",
       "AAACCCAAGTTTGCTG-HBT   HB T      T5\n",
       "AAACCCACACGCGCTA-HBT   HB T      T6\n",
       "AAACCCACAGGTGGAT-HBT   HB T      T4"
      ]
     },
     "execution_count": 7,
     "metadata": {},
     "output_type": "execute_result"
    }
   ],
   "source": [
    "df_tumorClusters.head()"
   ]
  },
  {
   "cell_type": "code",
   "execution_count": 25,
   "metadata": {},
   "outputs": [
    {
     "name": "stderr",
     "output_type": "stream",
     "text": [
      "Trying to set attribute `.obs` of view, copying.\n"
     ]
    }
   ],
   "source": [
    "adata.obs[\"tumorCluster\"] = \"\"\n",
    "adata[adata.obs[\"Cell class\"] == \"Tumor cells\",:].obs[\"tumorCluster\"] = \"T3\"\n",
    "adata.obs[\"tumorCluster\"] = df_tumorClusters[\"Cluster\"]"
   ]
  },
  {
   "cell_type": "code",
   "execution_count": 26,
   "metadata": {},
   "outputs": [
    {
     "data": {
      "text/plain": [
       "Counter({nan: 13289,\n",
       "         'T4': 1346,\n",
       "         'T5': 1315,\n",
       "         'T6': 1305,\n",
       "         'T2': 1965,\n",
       "         'T1': 2305,\n",
       "         'T0': 2460,\n",
       "         'T8': 1070,\n",
       "         'T9': 718,\n",
       "         'T7': 1113})"
      ]
     },
     "execution_count": 26,
     "metadata": {},
     "output_type": "execute_result"
    }
   ],
   "source": [
    "Counter(adata.obs[\"tumorCluster\"])"
   ]
  },
  {
   "cell_type": "markdown",
   "metadata": {},
   "source": [
    "### 2. cell cycle score computation"
   ]
  },
  {
   "cell_type": "code",
   "execution_count": 27,
   "metadata": {},
   "outputs": [
    {
     "data": {
      "text/plain": [
       "View of AnnData object with n_obs × n_vars = 15272 × 33538 \n",
       "    obs: 'n_genes', 'n_counts', 'percent_mito', 'S_score', 'G2M_score', 'phase', 'Sample', 'Cell class', 'Cell class_v2', 'Tumor Cluster', 'count by Sample/Cell class/Tumor Cluster', 'tumorCluster', 'Sample_v2'\n",
       "    obsm: 'X_umap'\n",
       "    layers: 'norm_data'"
      ]
     },
     "execution_count": 27,
     "metadata": {},
     "output_type": "execute_result"
    }
   ],
   "source": [
    "adata[adata.obs[\"Cell class\"] == \"Tumor cells\",:]"
   ]
  },
  {
   "cell_type": "code",
   "execution_count": 46,
   "metadata": {},
   "outputs": [],
   "source": [
    "sc.pp.scale(adata, max_value=10)"
   ]
  },
  {
   "cell_type": "code",
   "execution_count": 49,
   "metadata": {},
   "outputs": [],
   "source": [
    "df_cellcyle = pd.read_csv(\"./regev_lab_cell_cycle_genes.txt\",sep=\"\\t\",header=0)"
   ]
  },
  {
   "cell_type": "code",
   "execution_count": 50,
   "metadata": {},
   "outputs": [
    {
     "data": {
      "text/html": [
       "<div>\n",
       "<style scoped>\n",
       "    .dataframe tbody tr th:only-of-type {\n",
       "        vertical-align: middle;\n",
       "    }\n",
       "\n",
       "    .dataframe tbody tr th {\n",
       "        vertical-align: top;\n",
       "    }\n",
       "\n",
       "    .dataframe thead th {\n",
       "        text-align: right;\n",
       "    }\n",
       "</style>\n",
       "<table border=\"1\" class=\"dataframe\">\n",
       "  <thead>\n",
       "    <tr style=\"text-align: right;\">\n",
       "      <th></th>\n",
       "      <th>s_genes</th>\n",
       "      <th>g2m_genes</th>\n",
       "    </tr>\n",
       "  </thead>\n",
       "  <tbody>\n",
       "    <tr>\n",
       "      <th>0</th>\n",
       "      <td>MCM5</td>\n",
       "      <td>HMGB2</td>\n",
       "    </tr>\n",
       "    <tr>\n",
       "      <th>1</th>\n",
       "      <td>PCNA</td>\n",
       "      <td>CDK1</td>\n",
       "    </tr>\n",
       "    <tr>\n",
       "      <th>2</th>\n",
       "      <td>TYMS</td>\n",
       "      <td>NUSAP1</td>\n",
       "    </tr>\n",
       "    <tr>\n",
       "      <th>3</th>\n",
       "      <td>FEN1</td>\n",
       "      <td>UBE2C</td>\n",
       "    </tr>\n",
       "    <tr>\n",
       "      <th>4</th>\n",
       "      <td>MCM2</td>\n",
       "      <td>BIRC5</td>\n",
       "    </tr>\n",
       "  </tbody>\n",
       "</table>\n",
       "</div>"
      ],
      "text/plain": [
       "  s_genes g2m_genes\n",
       "0    MCM5     HMGB2\n",
       "1    PCNA      CDK1\n",
       "2    TYMS    NUSAP1\n",
       "3    FEN1     UBE2C\n",
       "4    MCM2     BIRC5"
      ]
     },
     "execution_count": 50,
     "metadata": {},
     "output_type": "execute_result"
    }
   ],
   "source": [
    "df_cellcyle.head()"
   ]
  },
  {
   "cell_type": "code",
   "execution_count": null,
   "metadata": {},
   "outputs": [],
   "source": []
  },
  {
   "cell_type": "code",
   "execution_count": 58,
   "metadata": {},
   "outputs": [],
   "source": [
    "s_genes = np.intersect1d(df_cellcyle[\"s_genes\"][:43], adata.var.index.values)\n",
    "g2m_genes = np.intersect1d(df_cellcyle[\"g2m_genes\"], adata.var.index.values)"
   ]
  },
  {
   "cell_type": "code",
   "execution_count": 67,
   "metadata": {},
   "outputs": [],
   "source": [
    "adata.obs[\"s_score\"] = np.sum(adata[:,s_genes].X,axis=1)"
   ]
  },
  {
   "cell_type": "code",
   "execution_count": 77,
   "metadata": {},
   "outputs": [],
   "source": [
    "def scoring(adata=adata, gene_list=s_genes, targets=\"Sample\", score_name=\"S score\"):\n",
    "    adata_subset = adata[:, gene_list]\n",
    "    adata.obs[score_name] = np.sum(adata[:,gene_list].X,axis=1)\n",
    "    \n",
    "    sc.pl.violin(adata, [score_name],jitter=0, multi_panel=True, groupby=targets)\n",
    "    return adata"
   ]
  },
  {
   "cell_type": "code",
   "execution_count": 73,
   "metadata": {},
   "outputs": [
    {
     "data": {
      "image/png": "[encoded data removed]",
      "text/plain": [
       "<Figure size 538.128x288 with 1 Axes>"
      ]
     },
     "metadata": {
      "needs_background": "light"
     },
     "output_type": "display_data"
    }
   ],
   "source": [
    "asc.pl.violin(adata, ['s_score'],jitter=0, multi_panel=True, groupby=\"Sample\")"
   ]
  },
  {
   "cell_type": "code",
   "execution_count": 78,
   "metadata": {},
   "outputs": [
    {
     "data": {
      "image/png": "[encoded data removed]",
      "text/plain": [
       "<Figure size 538.128x288 with 1 Axes>"
      ]
     },
     "metadata": {
      "needs_background": "light"
     },
     "output_type": "display_data"
    }
   ],
   "source": [
    "adata = scoring(adata, g2m_genes, \"Sample\", \"G2M score\")"
   ]
  },
  {
   "cell_type": "markdown",
   "metadata": {},
   "source": [
    "### 3. select 3 cell types"
   ]
  },
  {
   "cell_type": "code",
   "execution_count": 79,
   "metadata": {},
   "outputs": [
    {
     "data": {
      "text/plain": [
       "array(['background-B cells', 'background-Cholangiocytes',\n",
       "       'background-Endothelial cells',\n",
       "       'background-Hepatic Stellate cells', 'background-Hepatocytes',\n",
       "       'background-Kupffer cells', 'background-NK cells',\n",
       "       'background-T cells', 'human hepatoplastoma-Endothelial cells',\n",
       "       'human hepatoplastoma-Hepatic Stellate cells',\n",
       "       'human hepatoplastoma-Inflammatory Monocytes',\n",
       "       'human hepatoplastoma-NK.T cells',\n",
       "       'human hepatoplastoma-Tumor cells', 'pdx-Tumor cells'],\n",
       "      dtype=object)"
      ]
     },
     "execution_count": 79,
     "metadata": {},
     "output_type": "execute_result"
    }
   ],
   "source": [
    "np.unique(adata.obs[\"Cell class_v2\"])"
   ]
  },
  {
   "cell_type": "code",
   "execution_count": 80,
   "metadata": {},
   "outputs": [],
   "source": [
    "adata_3types = adata[adata.obs[\"Cell class_v2\"].isin([\"background-Hepatocytes\",\"human hepatoplastoma-Tumor cells\",\"pdx-Tumor cells\"]),:]"
   ]
  },
  {
   "cell_type": "code",
   "execution_count": 81,
   "metadata": {},
   "outputs": [
    {
     "data": {
      "text/plain": [
       "(21631, 33538)"
      ]
     },
     "execution_count": 81,
     "metadata": {},
     "output_type": "execute_result"
    }
   ],
   "source": [
    "adata_3types.shape"
   ]
  },
  {
   "cell_type": "code",
   "execution_count": 83,
   "metadata": {},
   "outputs": [
    {
     "data": {
      "text/html": [
       "<div>\n",
       "<style scoped>\n",
       "    .dataframe tbody tr th:only-of-type {\n",
       "        vertical-align: middle;\n",
       "    }\n",
       "\n",
       "    .dataframe tbody tr th {\n",
       "        vertical-align: top;\n",
       "    }\n",
       "\n",
       "    .dataframe thead th {\n",
       "        text-align: right;\n",
       "    }\n",
       "</style>\n",
       "<table border=\"1\" class=\"dataframe\">\n",
       "  <thead>\n",
       "    <tr style=\"text-align: right;\">\n",
       "      <th></th>\n",
       "      <th>n_genes</th>\n",
       "      <th>n_counts</th>\n",
       "      <th>percent_mito</th>\n",
       "      <th>S_score</th>\n",
       "      <th>G2M_score</th>\n",
       "      <th>phase</th>\n",
       "      <th>Sample</th>\n",
       "      <th>Cell class</th>\n",
       "      <th>Cell class_v2</th>\n",
       "      <th>Tumor Cluster</th>\n",
       "      <th>count by Sample/Cell class/Tumor Cluster</th>\n",
       "      <th>tumorCluster</th>\n",
       "      <th>Sample_v2</th>\n",
       "      <th>s_score</th>\n",
       "      <th>G2M score</th>\n",
       "    </tr>\n",
       "    <tr>\n",
       "      <th>new_index</th>\n",
       "      <th></th>\n",
       "      <th></th>\n",
       "      <th></th>\n",
       "      <th></th>\n",
       "      <th></th>\n",
       "      <th></th>\n",
       "      <th></th>\n",
       "      <th></th>\n",
       "      <th></th>\n",
       "      <th></th>\n",
       "      <th></th>\n",
       "      <th></th>\n",
       "      <th></th>\n",
       "      <th></th>\n",
       "      <th></th>\n",
       "    </tr>\n",
       "  </thead>\n",
       "  <tbody>\n",
       "    <tr>\n",
       "      <th>AAACCCACAACTGAAA-HBB</th>\n",
       "      <td>2058</td>\n",
       "      <td>8974</td>\n",
       "      <td>0.207488</td>\n",
       "      <td>-0.529314</td>\n",
       "      <td>-0.381604</td>\n",
       "      <td>G1</td>\n",
       "      <td>background</td>\n",
       "      <td>Hepatocytes</td>\n",
       "      <td>background-Hepatocytes</td>\n",
       "      <td>nan</td>\n",
       "      <td>6359</td>\n",
       "      <td>nan</td>\n",
       "      <td>HBB</td>\n",
       "      <td>-9.493890</td>\n",
       "      <td>-11.011980</td>\n",
       "    </tr>\n",
       "    <tr>\n",
       "      <th>AAACCCAGTACGGTTT-HBB</th>\n",
       "      <td>2180</td>\n",
       "      <td>6579</td>\n",
       "      <td>0.082687</td>\n",
       "      <td>-0.634865</td>\n",
       "      <td>-0.878748</td>\n",
       "      <td>G1</td>\n",
       "      <td>background</td>\n",
       "      <td>Hepatocytes</td>\n",
       "      <td>background-Hepatocytes</td>\n",
       "      <td>nan</td>\n",
       "      <td>6359</td>\n",
       "      <td>nan</td>\n",
       "      <td>HBB</td>\n",
       "      <td>-9.741944</td>\n",
       "      <td>-14.408025</td>\n",
       "    </tr>\n",
       "  </tbody>\n",
       "</table>\n",
       "</div>"
      ],
      "text/plain": [
       "                      n_genes  n_counts  percent_mito   S_score  G2M_score  \\\n",
       "new_index                                                                    \n",
       "AAACCCACAACTGAAA-HBB     2058      8974      0.207488 -0.529314  -0.381604   \n",
       "AAACCCAGTACGGTTT-HBB     2180      6579      0.082687 -0.634865  -0.878748   \n",
       "\n",
       "                     phase      Sample   Cell class           Cell class_v2  \\\n",
       "new_index                                                                     \n",
       "AAACCCACAACTGAAA-HBB    G1  background  Hepatocytes  background-Hepatocytes   \n",
       "AAACCCAGTACGGTTT-HBB    G1  background  Hepatocytes  background-Hepatocytes   \n",
       "\n",
       "                     Tumor Cluster  count by Sample/Cell class/Tumor Cluster  \\\n",
       "new_index                                                                      \n",
       "AAACCCACAACTGAAA-HBB           nan                                      6359   \n",
       "AAACCCAGTACGGTTT-HBB           nan                                      6359   \n",
       "\n",
       "                     tumorCluster Sample_v2   s_score  G2M score  \n",
       "new_index                                                         \n",
       "AAACCCACAACTGAAA-HBB          nan       HBB -9.493890 -11.011980  \n",
       "AAACCCAGTACGGTTT-HBB          nan       HBB -9.741944 -14.408025  "
      ]
     },
     "execution_count": 83,
     "metadata": {},
     "output_type": "execute_result"
    }
   ],
   "source": [
    "adata_3types.obs.head(2)"
   ]
  },
  {
   "cell_type": "code",
   "execution_count": 84,
   "metadata": {},
   "outputs": [
    {
     "data": {
      "image/png": "[encoded data removed]",
      "text/plain": [
       "<Figure size 1076.26x288 with 2 Axes>"
      ]
     },
     "metadata": {
      "needs_background": "light"
     },
     "output_type": "display_data"
    }
   ],
   "source": [
    "sc.pl.violin(adata, ['s_score',\"G2M score\"],jitter=0, multi_panel=True, groupby=\"Sample\")"
   ]
  },
  {
   "cell_type": "code",
   "execution_count": null,
   "metadata": {},
   "outputs": [],
   "source": []
  }
 ],
 "metadata": {
  "kernelspec": {
   "display_name": "Python 3",
   "language": "python",
   "name": "python3"
  },
  "language_info": {
   "codemirror_mode": {
    "name": "ipython",
    "version": 3
   },
   "file_extension": ".py",
   "mimetype": "text/x-python",
   "name": "python",
   "nbconvert_exporter": "python",
   "pygments_lexer": "ipython3",
   "version": "3.7.2"
  }
 },
 "nbformat": 4,
 "nbformat_minor": 2
}
